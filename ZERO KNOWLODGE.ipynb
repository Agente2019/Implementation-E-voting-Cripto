{
 "cells": [
  {
   "cell_type": "code",
   "execution_count": 3,
   "metadata": {},
   "outputs": [],
   "source": [
    "#Prova de conhecimento zero\n",
    "\n",
    "# Geração de chaves\n",
    "def genPQ(bits):\n",
    "    p, q= random_prime(2**(bits/2)), random_prime(2**(bits/2))\n",
    "    return (p, q, p*q)\n",
    "# Interação entre Paula e Veigas\n",
    "def Comunication (n, s1, s2, s3):\n",
    "    Zn = IntegerModRing(n)\n",
    "    r = Zn.random_element()\n",
    "    s = Zn(1 - 2 * randint(0, 1))\n",
    "    x = s*r**2\n",
    "    a1 = randint(0, 1)\n",
    "    a2 = randint(0, 1)\n",
    "    a3 = randint(0, 1)\n",
    "    y  = r*(s1**a1)*(s2**a2)*(s3**a3)\n",
    "    return y, x, [a1, a2, a3]\n",
    "\n",
    "# Momento da prova\n",
    "def Proof (n, s1, s2, s3):\n",
    "    Zn=IntegerModRing(n)\n",
    "    v1 = Zn(s1)**2\n",
    "    v2 = Zn(s2)**2\n",
    "    v3 = Zn(s3)**2\n",
    "    comun = Comunication(n, s1, s2, s3)\n",
    "    return (v1, v2, v3, comun[0:2]), comun[2]\n",
    "# Verificação\n",
    "def Verify(proof, lista_a):\n",
    "    v1, v2, v3, (y, x) = proof\n",
    "    [a1, a2, a3] = lista_a\n",
    "    w = -x*(v1**a1)*(v2**a2)*(v3**a3)\n",
    "    k = x*(v1**a1)*(v2**a2)*(v3**a3)\n",
    "    if (y**2 == w or y**2 == k):\n",
    "        return True\n",
    "    else:\n",
    "        return False"
   ]
  },
  {
   "cell_type": "code",
   "execution_count": null,
   "metadata": {},
   "outputs": [],
   "source": []
  }
 ],
 "metadata": {
  "kernelspec": {
   "display_name": "SageMath 8.0",
   "language": "",
   "name": "sagemath"
  },
  "language_info": {
   "codemirror_mode": {
    "name": "ipython",
    "version": 2
   },
   "file_extension": ".py",
   "mimetype": "text/x-python",
   "name": "python",
   "nbconvert_exporter": "python",
   "pygments_lexer": "ipython2",
   "version": "2.7.14+"
  }
 },
 "nbformat": 4,
 "nbformat_minor": 2
}
