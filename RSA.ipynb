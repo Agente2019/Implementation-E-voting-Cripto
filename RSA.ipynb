{
 "cells": [
  {
   "cell_type": "code",
   "execution_count": 18,
   "metadata": {},
   "outputs": [],
   "source": [
    "#Criptossistema RSA\n",
    "\n",
    "# Geração de chaves\n",
    "def RSA(bits):\n",
    "    \"\"\"\n",
    "Função que invoca o cálculo do par de chaves RSA.\n",
    "Input: recebe o número de bits.\n",
    "Output: retorna um par de chaves.\n",
    "Uso: escolhe-se dois números primos p e q, calcula-se a função de Carmichael\n",
    "φ(n)=(p-1), isto é, d  é o inverso multiplicativo de e mod n, Zn é o grupo,\n",
    "tal que n é o produto de dois números primos p e q e ambos de grande tamanho.\n",
    "d- chave privada e (n, e)- chave pública.\n",
    "\n",
    "Exemplo: Seja 128 o número de bits, suponhamos p=6076863405864212999 e q=1562809530454321421,\n",
    "então o par de chaves é: chave privada d=4913970632284035618727648810595056111, chave pública:\n",
    "(n, e)=(9496980045953699178562209452752351579, 404259412098621376441621593718777431).\n",
    "\n",
    "Atenção: Se os parâmetros p e q forem de tamanhos pequenos, um ataque por força\n",
    "é trivial. A NIST recomenda no mínimo 3072 bits.\n",
    "    \"\"\"\n",
    "    p, q= random_prime(2**(bits/2)), random_prime(2**(bits/2))\n",
    "    n= p*q\n",
    "    Zn=IntegerModRing(n)\n",
    "    phi=(p-1)*(q-1)\n",
    "    e=ZZ.random_element(phi)\n",
    "    while gcd(e, phi) !=1:\n",
    "        e=ZZ.random_element(phi)\n",
    "    d= power_mod(e, -1, phi)\n",
    "    Chave_privada= d\n",
    "    Chave_publica= (n,e)\n",
    "    return (Chave_privada, Chave_publica)\n",
    "\n",
    "#Cifração\n",
    "def Encrypt(M, Chave_publica):\n",
    "    \"\"\"\n",
    "Função que invoca a  cifração do texto puro.\n",
    "Input: mensagem (texto puro) a enviar e a chave pública.\n",
    "Output: mensagem cifrada.\n",
    "Uso: o criptograma C é calculado, efetuando: C≡M^e  (mod n)\n",
    "\n",
    "Exemplo: Seja M=112, a mensagem a cifrar, o criptograma é:\n",
    "7803526867487743114413877050907075921.\n",
    "    \"\"\"\n",
    "    n, e = Chave_publica\n",
    "    Criptograma= power_mod(M, e, n)\n",
    "    return Criptograma\n",
    "\n",
    "#Decifração\n",
    "def Decrypt(Criptograma, sk, pk):\n",
    "    \"\"\"\n",
    "Função que invoca a decifração do texto puro.\n",
    "Input: criptograma e o par de chaves.\n",
    "Output: texto puro.\n",
    "\n",
    "Uso: o texto puro é recuperado, efetuando: M≡C^d≡[(M^e)]^d  (mod n)\n",
    "    \"\"\"\n",
    "    d = sk\n",
    "    (n, _) = pk\n",
    "    Texto_puro= power_mod(Criptograma,d, n)\n",
    "    return Texto_puro"
   ]
  },
  {
   "cell_type": "code",
   "execution_count": null,
   "metadata": {},
   "outputs": [],
   "source": []
  },
  {
   "cell_type": "code",
   "execution_count": null,
   "metadata": {},
   "outputs": [],
   "source": []
  }
 ],
 "metadata": {
  "kernelspec": {
   "display_name": "Python 3",
   "language": "python",
   "name": "python3"
  },
  "language_info": {
   "codemirror_mode": {
    "name": "ipython",
    "version": 3
   },
   "file_extension": ".py",
   "mimetype": "text/x-python",
   "name": "python",
   "nbconvert_exporter": "python",
   "pygments_lexer": "ipython3",
   "version": "3.6.4rc1"
  }
 },
 "nbformat": 4,
 "nbformat_minor": 2
}
