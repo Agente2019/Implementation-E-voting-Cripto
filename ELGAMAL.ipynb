{
 "cells": [
  {
   "cell_type": "code",
   "execution_count": 2,
   "metadata": {},
   "outputs": [
    {
     "ename": "IndentationError",
     "evalue": "unindent does not match any outer indentation level (<ipython-input-2-d8431f7f9ce5>, line 48)",
     "output_type": "error",
     "traceback": [
      "\u001b[0;36m  File \u001b[0;32m\"<ipython-input-2-d8431f7f9ce5>\"\u001b[0;36m, line \u001b[0;32m48\u001b[0m\n\u001b[0;31m    p, g, y =PuKey\u001b[0m\n\u001b[0m                  ^\u001b[0m\n\u001b[0;31mIndentationError\u001b[0m\u001b[0;31m:\u001b[0m unindent does not match any outer indentation level\n"
     ]
    }
   ],
   "source": [
    "# Criptossistema Elgamal\n",
    "\n",
    "# Geração de chaves\n",
    "def Elgamal (bits):\n",
    "    \"\"\"\n",
    "Função que invoca o cálculo das chaves, privada e pública Elgamal.\n",
    "Input: recebe o número de bits.\n",
    "Output: retorna a as duas chaves como parâmetros de saída.\n",
    "\n",
    "Uso: Alice calcula o p primo, onde Zp* é grupo, escolhe a chave\n",
    "privada x∈Zp*,g gerador do grupo, calcula y= g^x mod p. A chave a\n",
    "pública é: (y;g;p).\n",
    "\n",
    "Exemplo: Suponhamos que pretende-se gerar uma chave de 128 bits,\n",
    "então: a chave privada: 190422571672400112311789107296726056505,\n",
    "Chave pública: (224757691300596776616407300685410361353, 3,\n",
    "65773925495537165919969078067390052602)\n",
    "    \"\"\"\n",
    "    p=random_prime(2**bits)\n",
    "    Zp=IntegerModRing(p)\n",
    "    g=Zp.multiplicative_generator()\n",
    "    x=randint(2, p-1)\n",
    "    y=g**x\n",
    "    PuKey=(p, g, y)\n",
    "    PrKey=x\n",
    "    return PuKey, PrKey\n",
    "\n",
    "#Mensagem aleatória\n",
    "# def randMess(pubK):\n",
    "#     p, _, _ = pubK\n",
    "#     m=randint(2, p-1)\n",
    "#     return m\n",
    "\n",
    "#Cifração\n",
    "def Encrypt(PuKey, m):\n",
    "     \"\"\"\n",
    "Função que invoca a cifração do texto puro.\n",
    "Input: a chave pública e o texto puro.\n",
    "Output: retorna o criptograma.\n",
    "\n",
    "Uso: Bob calcula o criptograma (α; β), efetuando,\n",
    "α= g^k mod p, e β=M . y^k mod p, onde k é um inteiro pertecente\n",
    "ao grupo.\n",
    "\n",
    "Exemplo: Suponhamos que queremos cifrar M = 11002, então, o criptograma resultante é:\n",
    "[218633365991801361628119371244493036581, 65561913107707291720633356647254684460]\n",
    "    \"\"\"\n",
    "    p, g, y =PuKey\n",
    "    Zp=IntegerModRing(p)\n",
    "    k=randint(2, p-1)\n",
    "    Alfa=g**k\n",
    "    Beta=Mensagem*(y**k)\n",
    "    Criptograma=[Alfa, Beta]\n",
    "    return Criptograma\n",
    "\n",
    "#Decifração\n",
    "def Decrypt(PuKey, PrKey, Criptograma):\n",
    "    \"\"\"\n",
    "Função que invoca a decifração do texto cifrado.\n",
    "Input: a chave pública, privada e o criptograma.\n",
    "Output: retorma a mensagem original.\n",
    "\n",
    "Uso: Alice decifra a mensagem: Texto puro=M . α^(-x ). α^x mod p, sendo,\n",
    "α= g^k recebido de Bob.\n",
    "    \"\"\"\n",
    "    p, g, y = PuKey\n",
    "    x = PrKey\n",
    "    Zp=IntegerModRing(p)\n",
    "    s=(Criptograma[0]**x)\n",
    "    Mensagem=(1/s)*Criptograma[1]\n",
    "    return Mensagem"
   ]
  },
  {
   "cell_type": "code",
   "execution_count": null,
   "metadata": {},
   "outputs": [],
   "source": []
  }
 ],
 "metadata": {
  "kernelspec": {
   "display_name": "SageMath 8.0",
   "language": "",
   "name": "sagemath"
  },
  "language_info": {
   "codemirror_mode": {
    "name": "ipython",
    "version": 2
   },
   "file_extension": ".py",
   "mimetype": "text/x-python",
   "name": "python",
   "nbconvert_exporter": "python",
   "pygments_lexer": "ipython2",
   "version": "2.7.14+"
  }
 },
 "nbformat": 4,
 "nbformat_minor": 2
}
